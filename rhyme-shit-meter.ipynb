{
 "cells": [
  {
   "cell_type": "code",
   "execution_count": 1,
   "id": "fb3c93f1-a159-49c1-b1dc-0489607a0afc",
   "metadata": {},
   "outputs": [],
   "source": [
    "#!pip install pandas\n",
    "#!pip install openpyxl\n",
    "#!pip install epitran\n",
    "#!pip install pronouncing\n",
    "#!pip install rhymetagger\n"
   ]
  },
  {
   "cell_type": "code",
   "execution_count": 2,
   "id": "ed972dc8-4d02-433f-b643-a873e0092587",
   "metadata": {},
   "outputs": [],
   "source": [
    "import pandas as pd\n",
    "import string\n",
    "import re\n",
    "import os\n",
    "from rhymetagger import RhymeTagger"
   ]
  },
  {
   "cell_type": "code",
   "execution_count": 3,
   "id": "d9941eaa-75bd-443b-88bc-f7532f4c133d",
   "metadata": {},
   "outputs": [],
   "source": [
    "df = pd.read_csv(\"паспорт хорошего русского - песня скомпилированная рифма AABB.csv\",)"
   ]
  },
  {
   "cell_type": "code",
   "execution_count": 4,
   "id": "bf0dbeed-6c66-4bc6-89dd-6fc9fbda4794",
   "metadata": {},
   "outputs": [],
   "source": [
    "path_to_file = \"kino-kukushka.txt\"\n",
    "path_to_file = \"glinka-slavsa.txt\"\n",
    "path_to_file = \"lube-kon.txt\"\n",
    "\n",
    "path_to_file = \"bernes-temnaya-noc.txt\"\n",
    "path_to_file = \"tscvetaeva.txt\""
   ]
  },
  {
   "cell_type": "code",
   "execution_count": 5,
   "id": "1bc61cd8-b5de-4315-8959-f553b573001d",
   "metadata": {},
   "outputs": [],
   "source": [
    "with open(path_to_file) as f:\n",
    "    text_song = f.readlines()\n",
    "#text_song\n",
    "\n",
    "df = pd.DataFrame(text_song, columns = [\"text\"])\n",
    "df = df[df[\"text\"] != \"\\n\"]\n",
    "df = df.reset_index(drop = True)\n",
    "\n",
    "l1 = []\n",
    "df2 = pd.DataFrame(columns = [\"text\"])\n",
    "for ind in df.index:\n",
    "    n1 = ind + 1\n",
    "    n = n1 % 4\n",
    "    if n == 1: \n",
    "        l1 = [df['text'][ind]]\n",
    "    else:\n",
    "        l1.append(df['text'][ind])\n",
    "    if n == 0: \n",
    "        text = \"\".join(l1)\n",
    "        new_row = pd.DataFrame([text], columns=['text'])\n",
    "        df2 = pd.concat([df2, new_row], ignore_index=True)\n",
    "        #text = \"\"\n",
    "\n",
    "df2[\"text\"] = df2.apply(lambda row: row[\"text\"][:-1] if row[\"text\"][-1] else row[\"text\"], axis = 1)\n",
    "df = df2\n",
    "\n",
    "#df2.values"
   ]
  },
  {
   "cell_type": "code",
   "execution_count": 6,
   "id": "c1117a73-ebc3-469c-9c8f-fa389ebd6c64",
   "metadata": {},
   "outputs": [],
   "source": [
    "def get_item(text):\n",
    "    arr = text.split(\"\\n\")\n",
    "    #l1 = list(map(lambda x: x if x[-1].isalpha() else x[:-1], arr))\n",
    "    \n",
    "    def remove_punctuation(str):\n",
    "        #str = str if str[-1].isalpha() else str[:-1]\n",
    "        #return str.translate(str.maketrans('', '', string.punctuation))\n",
    "        return re.sub(r'[^\\w\\s]', '', str).strip()\n",
    "\n",
    "    arr = list(map(remove_punctuation,arr))\n",
    "    return  arr\n",
    "    "
   ]
  },
  {
   "cell_type": "code",
   "execution_count": 7,
   "id": "b3bf7a9f-3fe9-43e7-a82e-039855e4a845",
   "metadata": {},
   "outputs": [],
   "source": [
    "#get_item(df.iloc[0].values[0])\n",
    "df[\"text_splitted\"] = df.apply(lambda raw:get_item(raw[\"text\"]), axis=1)"
   ]
  },
  {
   "cell_type": "code",
   "execution_count": 8,
   "id": "4181bf32-7e5e-4357-996f-549a4bf49a5d",
   "metadata": {},
   "outputs": [],
   "source": [
    "#df.iloc[5][\"text\"], df.iloc[5][\"text_splitted\"], "
   ]
  },
  {
   "cell_type": "code",
   "execution_count": 9,
   "id": "f297fb7d-9699-4703-8d3a-ec443939c215",
   "metadata": {},
   "outputs": [],
   "source": [
    "def get_rhyme_score(text1, text2):\n",
    "\n",
    "    #This function counts only the direct equals of symbols from the end of phrases \n",
    "    #and isn`t aware of fonetical equals\n",
    "    \n",
    "    n = 1\n",
    "    while (n < len(text1) or n < len(text2)):\n",
    "        c1 = text1[-n]\n",
    "        c2 = text2[-n] \n",
    "        #print(c1, c2)\n",
    "        if c1 == c2:\n",
    "            n = n+1\n",
    "        else:\n",
    "            break\n",
    "    return n - 1"
   ]
  },
  {
   "cell_type": "code",
   "execution_count": 10,
   "id": "57a38a59-18f8-4850-8046-caa23f34b46e",
   "metadata": {},
   "outputs": [
    {
     "data": {
      "text/plain": [
       "('A', 2)"
      ]
     },
     "execution_count": 10,
     "metadata": {},
     "output_type": "execute_result"
    }
   ],
   "source": [
    "\"A\" , get_rhyme_score(df.iloc[0][\"text_splitted\"][0], df.iloc[0][\"text_splitted\"][2])\n",
    "#, get_rhyme_score(df[0][0], df[0][2]), get_rhyme_score(df[0][0], df[0][3])"
   ]
  },
  {
   "cell_type": "code",
   "execution_count": 11,
   "id": "ce77abca-49a0-48bc-ac1f-86a02ffed8b3",
   "metadata": {},
   "outputs": [],
   "source": [
    "def get_rhyme_score_of_quatrain_old(l4_quatrain):\n",
    "    l1 = l4_quatrain\n",
    "    letters = \"ABCD\"\n",
    "    n = len(letters)\n",
    "    scores = [None] * n \n",
    "    for i in range(0,n):\n",
    "        current_letter = letters[i]\n",
    "        if scores[i] is None: \n",
    "#            scores[i] = {current_letter:100}\n",
    "            scores[i] = {current_letter}\n",
    "        for j in range(i+1,n):\n",
    "            score = get_rhyme_score(l1[i], l1[j])\n",
    "            if (score > 0):\n",
    "                scores[j] = {current_letter:score}\n",
    "    return scores"
   ]
  },
  {
   "cell_type": "code",
   "execution_count": 12,
   "id": "f3ce8a68-72ec-4a45-b818-86f85a4f2dc0",
   "metadata": {},
   "outputs": [
    {
     "name": "stdout",
     "output_type": "stream",
     "text": [
      "====================================\n",
      "Model loaded with following settings:\n",
      "====================================\n",
      "  frequency_min: 3\n",
      "           lang: ru\n",
      "       max_iter: 20\n",
      "          ngram: 3\n",
      "   ngram_length: 3\n",
      "   prob_ipa_min: 0.9\n",
      " prob_ngram_min: 0.9\n",
      "     same_words: False\n",
      "   stanza_limit: True\n",
      "         stress: True\n",
      "       syll_max: 2\n",
      "    t_score_min: 3.078\n",
      "   vowel_length: True\n",
      "         window: 5\n",
      "====================================\n"
     ]
    }
   ],
   "source": [
    "rt = RhymeTagger()\n",
    "rt.load_model(model='ru')"
   ]
  },
  {
   "cell_type": "code",
   "execution_count": 13,
   "id": "265ac2a8-28c5-42f5-bf91-5e2272231473",
   "metadata": {},
   "outputs": [],
   "source": [
    "def get_rhyme_score_of_quatrain(l4_quatrain):\n",
    "    poem = l4_quatrain\n",
    "    #rt.add_to_model(poem) \n",
    "    rhymes = rt.tag(poem, output_format=3) \n",
    "    return rhymes\n"
   ]
  },
  {
   "cell_type": "code",
   "execution_count": 24,
   "id": "a18b96ca-b2d6-4cad-9b34-3be249c81d02",
   "metadata": {},
   "outputs": [],
   "source": [
    "def get_rhyme_score_of_quatrain_literal_and_fonetical(l4_quatrain):\n",
    "    l1 = get_rhyme_score_of_quatrain(l4_quatrain)\n",
    "    if None in l1:\n",
    "        l2 = get_rhyme_score_of_quatrain_old(l4_quatrain)\n",
    "    for i in range(len(l1)):\n",
    "        if l1[i] is None:\n",
    "            l1[i] = l2[i]\n",
    "    return l1"
   ]
  },
  {
   "cell_type": "code",
   "execution_count": 25,
   "id": "2d020bd0-a728-46c6-859f-943d7e95240f",
   "metadata": {},
   "outputs": [
    {
     "data": {
      "text/plain": [
       "(['Уж сколько их упало в эту бездну',\n",
       "  'Разверстую вдали',\n",
       "  'Настанет день когда и я исчезну',\n",
       "  'С поверхности земли'],\n",
       " [1, 2, 1, 2])"
      ]
     },
     "execution_count": 25,
     "metadata": {},
     "output_type": "execute_result"
    }
   ],
   "source": [
    "l1 = df.iloc[0][\"text_splitted\"]\n",
    "l1 , get_rhyme_score_of_quatrain_literal_and_fonetical(l1)"
   ]
  },
  {
   "cell_type": "code",
   "execution_count": 26,
   "id": "48de80f1-72fb-40d7-8bd5-acc48174cb8b",
   "metadata": {},
   "outputs": [],
   "source": [
    "df[\"scores\"] = df.apply(lambda raw: get_rhyme_score_of_quatrain_literal_and_fonetical(raw[\"text_splitted\"]), axis = 1)"
   ]
  },
  {
   "cell_type": "code",
   "execution_count": 27,
   "id": "c3a5c25c-d622-4d99-8835-103c22fd0911",
   "metadata": {},
   "outputs": [
    {
     "data": {
      "text/html": [
       "<div>\n",
       "<style scoped>\n",
       "    .dataframe tbody tr th:only-of-type {\n",
       "        vertical-align: middle;\n",
       "    }\n",
       "\n",
       "    .dataframe tbody tr th {\n",
       "        vertical-align: top;\n",
       "    }\n",
       "\n",
       "    .dataframe thead th {\n",
       "        text-align: right;\n",
       "    }\n",
       "</style>\n",
       "<table border=\"1\" class=\"dataframe\">\n",
       "  <thead>\n",
       "    <tr style=\"text-align: right;\">\n",
       "      <th></th>\n",
       "      <th>text</th>\n",
       "      <th>text_splitted</th>\n",
       "      <th>scores</th>\n",
       "    </tr>\n",
       "  </thead>\n",
       "  <tbody>\n",
       "    <tr>\n",
       "      <th>0</th>\n",
       "      <td>Уж сколько их упало в эту бездну,\\nРазверстую ...</td>\n",
       "      <td>[Уж сколько их упало в эту бездну, Разверстую ...</td>\n",
       "      <td>[1, 2, 1, 2]</td>\n",
       "    </tr>\n",
       "    <tr>\n",
       "      <th>1</th>\n",
       "      <td>Застынет всё, что пело и боролось,\\nСияло и рв...</td>\n",
       "      <td>[Застынет всё что пело и боролось, Сияло и рва...</td>\n",
       "      <td>[1, 1, 2, 2]</td>\n",
       "    </tr>\n",
       "    <tr>\n",
       "      <th>2</th>\n",
       "      <td>И будет жизнь с её насущным хлебом,\\nС забывчи...</td>\n",
       "      <td>[И будет жизнь с её насущным хлебом, С забывчи...</td>\n",
       "      <td>[1, 2, 1, 2]</td>\n",
       "    </tr>\n",
       "    <tr>\n",
       "      <th>3</th>\n",
       "      <td>Изменчивой, как дети, в каждой мине,\\nИ так не...</td>\n",
       "      <td>[Изменчивой как дети в каждой мине, И так недо...</td>\n",
       "      <td>[1, 2, 1, 2]</td>\n",
       "    </tr>\n",
       "    <tr>\n",
       "      <th>4</th>\n",
       "      <td>Виолончель и кавалькады в чаще,\\nИ колокол в с...</td>\n",
       "      <td>[Виолончель и кавалькады в чаще, И колокол в с...</td>\n",
       "      <td>[{A}, 1, {C}, 1]</td>\n",
       "    </tr>\n",
       "    <tr>\n",
       "      <th>5</th>\n",
       "      <td>— К вам всем — что мне, ни в чём не знавшей ме...</td>\n",
       "      <td>[К вам всем  что мне ни в чём не знавшей меры,...</td>\n",
       "      <td>[1, 2, 1, 2]</td>\n",
       "    </tr>\n",
       "    <tr>\n",
       "      <th>6</th>\n",
       "      <td>И день и ночь, и письменно и устно:\\nЗа правду...</td>\n",
       "      <td>[И день и ночь и письменно и устно, За правду ...</td>\n",
       "      <td>[1, 2, 1, 2]</td>\n",
       "    </tr>\n",
       "    <tr>\n",
       "      <th>7</th>\n",
       "      <td>За то, что мне — прямая неизбежность —\\nПрощен...</td>\n",
       "      <td>[За то что мне  прямая неизбежность, Прощение ...</td>\n",
       "      <td>[1, 2, 1, 2]</td>\n",
       "    </tr>\n",
       "    <tr>\n",
       "      <th>8</th>\n",
       "      <td>За быстроту стремительных событий,\\nЗа правду,...</td>\n",
       "      <td>[За быстроту стремительных событий, За правду ...</td>\n",
       "      <td>[{A}, 1, {C}, 1]</td>\n",
       "    </tr>\n",
       "  </tbody>\n",
       "</table>\n",
       "</div>"
      ],
      "text/plain": [
       "                                                text  \\\n",
       "0  Уж сколько их упало в эту бездну,\\nРазверстую ...   \n",
       "1  Застынет всё, что пело и боролось,\\nСияло и рв...   \n",
       "2  И будет жизнь с её насущным хлебом,\\nС забывчи...   \n",
       "3  Изменчивой, как дети, в каждой мине,\\nИ так не...   \n",
       "4  Виолончель и кавалькады в чаще,\\nИ колокол в с...   \n",
       "5  — К вам всем — что мне, ни в чём не знавшей ме...   \n",
       "6  И день и ночь, и письменно и устно:\\nЗа правду...   \n",
       "7  За то, что мне — прямая неизбежность —\\nПрощен...   \n",
       "8  За быстроту стремительных событий,\\nЗа правду,...   \n",
       "\n",
       "                                       text_splitted            scores  \n",
       "0  [Уж сколько их упало в эту бездну, Разверстую ...      [1, 2, 1, 2]  \n",
       "1  [Застынет всё что пело и боролось, Сияло и рва...      [1, 1, 2, 2]  \n",
       "2  [И будет жизнь с её насущным хлебом, С забывчи...      [1, 2, 1, 2]  \n",
       "3  [Изменчивой как дети в каждой мине, И так недо...      [1, 2, 1, 2]  \n",
       "4  [Виолончель и кавалькады в чаще, И колокол в с...  [{A}, 1, {C}, 1]  \n",
       "5  [К вам всем  что мне ни в чём не знавшей меры,...      [1, 2, 1, 2]  \n",
       "6  [И день и ночь и письменно и устно, За правду ...      [1, 2, 1, 2]  \n",
       "7  [За то что мне  прямая неизбежность, Прощение ...      [1, 2, 1, 2]  \n",
       "8  [За быстроту стремительных событий, За правду ...  [{A}, 1, {C}, 1]  "
      ]
     },
     "execution_count": 27,
     "metadata": {},
     "output_type": "execute_result"
    }
   ],
   "source": [
    "df"
   ]
  },
  {
   "cell_type": "code",
   "execution_count": 17,
   "id": "cf4930ab-c8d5-454d-9225-15b0ab8c33ce",
   "metadata": {},
   "outputs": [],
   "source": [
    "file_name = f\"{os.path.splitext(path_to_file)[0]}.xlsx\"\n",
    "#file_name\n",
    "df.loc[:, [\"text\",\"scores\"]].to_excel(file_name)"
   ]
  },
  {
   "cell_type": "markdown",
   "id": "a6a99bb5-a37b-4eba-b340-6b9fb1b1f06c",
   "metadata": {},
   "source": [
    "### Let`s control the different cases:"
   ]
  },
  {
   "cell_type": "code",
   "execution_count": 18,
   "id": "51e2caa9-afe2-4ed2-be27-a906d1d182d8",
   "metadata": {},
   "outputs": [
    {
     "data": {
      "text/plain": [
       "array(['Уж сколько их упало в эту бездну,\\nРазверстую вдали!\\nНастанет день, когда и я исчезну\\nС поверхности земли.',\n",
       "       list(['Уж сколько их упало в эту бездну', 'Разверстую вдали', 'Настанет день когда и я исчезну', 'С поверхности земли']),\n",
       "       list([1, 2, 1, 2])], dtype=object)"
      ]
     },
     "execution_count": 18,
     "metadata": {},
     "output_type": "execute_result"
    }
   ],
   "source": [
    "df.iloc[0].values\n",
    "#here is Ok, ABAB"
   ]
  },
  {
   "cell_type": "code",
   "execution_count": 19,
   "id": "95572b4f-5230-43ec-b835-7ba4c7c248be",
   "metadata": {},
   "outputs": [
    {
     "data": {
      "text/plain": [
       "['Застынет всё что пело и боролось',\n",
       " 'Сияло и рвалось',\n",
       " 'И зелень глаз моих и нежный голос',\n",
       " 'И золото волос']"
      ]
     },
     "execution_count": 19,
     "metadata": {},
     "output_type": "execute_result"
    }
   ],
   "source": [
    "df.iloc[1].values[1]\n",
    "#here is ABAC, should be AABB\n",
    "#because phonetically ах ~ аш"
   ]
  },
  {
   "cell_type": "code",
   "execution_count": 20,
   "id": "ef17b550-9716-4c6e-aca6-15cdb4d26c7b",
   "metadata": {},
   "outputs": [],
   "source": [
    "#df.iloc[6].values\n",
    "#here is ABCC, should be AABB \n",
    "#because phonetically ных ~ ну"
   ]
  },
  {
   "cell_type": "markdown",
   "id": "9e46671f-3006-475d-8988-e77922c07272",
   "metadata": {},
   "source": [
    "### Conclusion: the get_rhyme_score(text1, text2) should be extended for fonetical equal phrases\n",
    "## theory here https://stihi.ru/2011/10/19/7548#:~:text=%D0%9D%D0%B5%D1%82%D0%BE%D1%87%D0%BD%D0%B0%D1%8F%20%D1%80%D0%B8%D1%84%D0%BC%D0%B0%20%D1%85%D0%B0%D1%80%D0%B0%D0%BA%D1%82%D0%B5%D1%80%D0%B8%D0%B7%D1%83%D0%B5%D1%82%D1%81%D1%8F%20%D1%80%D0%B0%D0%B7%D0%BB%D0%B8%D1%87%D0%B8%D1%8F%D0%BC%D0%B8%20%D0%B2,%D1%81%D0%BB%D0%BE%D0%B3%D0%B0%D1%85%2C%20%D1%80%D0%B0%D1%81%D0%BF%D0%BE%D0%BB%D0%BE%D0%B6%D0%B5%D0%BD%D0%BD%D1%8B%D1%85%20%D0%B2%20%D0%BE%D0%BA%D0%BE%D0%BD%D1%87%D0%B0%D0%BD%D0%B8%D1%8F%D1%85%20%D1%81%D1%82%D1%80%D0%BE%D0%BA.\n"
   ]
  },
  {
   "cell_type": "code",
   "execution_count": 21,
   "id": "dcc4f3fc-df8a-499a-b3ee-bf7c05234c82",
   "metadata": {},
   "outputs": [],
   "source": [
    "def is_Consonance():\n",
    "\n",
    "    #https://ru.wikipedia.org/wiki/%D0%9A%D0%BE%D0%BD%D1%81%D0%BE%D0%BD%D0%B0%D0%BD%D1%81_(%D0%B7%D0%BD%D0%B0%D1%87%D0%B5%D0%BD%D0%B8%D1%8F)\n",
    "    return False\n",
    "\n",
    "def is_Assonance():\n",
    "\n",
    "    #https://en.wikipedia.org/wiki/Assonance\n",
    "    return False\n",
    "    \n"
   ]
  },
  {
   "cell_type": "code",
   "execution_count": 22,
   "id": "d3e0a29d-64df-404c-8b05-6773e9f38b19",
   "metadata": {},
   "outputs": [
    {
     "data": {
      "text/plain": [
       "'za bɨstrotu strʲemʲitʲelʲnɨx sobɨtʲiй,za pravdu, za iɡru…— posluʂaйtʲe! — jeɕːё mʲena lʲubʲitʲe za to, t͡ɕʲto ja umru'"
      ]
     },
     "execution_count": 22,
     "metadata": {},
     "output_type": "execute_result"
    }
   ],
   "source": [
    "from epitran.backoff import Backoff\n",
    "\n",
    "backoff = Backoff(['rus-Cyrl', 'rus-Cyrl'])\n",
    "                  \n",
    "backoff.transliterate('За быстроту стремительных событий,За правду, за игру…— Послушайте! — Ещё меня любите За то, что я умру')"
   ]
  },
  {
   "cell_type": "code",
   "execution_count": 23,
   "id": "cb8015d8-d52a-4eb0-abb5-fd2cba85d498",
   "metadata": {},
   "outputs": [
    {
     "data": {
      "text/plain": [
       "[]"
      ]
     },
     "execution_count": 23,
     "metadata": {},
     "output_type": "execute_result"
    }
   ],
   "source": [
    "import pronouncing\n",
    "pronouncing.rhymes(\"стремительных\")\n"
   ]
  },
  {
   "cell_type": "code",
   "execution_count": null,
   "id": "1cdb6bf9-93d3-4b43-bdf7-bbfee71f29f7",
   "metadata": {},
   "outputs": [],
   "source": []
  }
 ],
 "metadata": {
  "kernelspec": {
   "display_name": "Python 3 (ipykernel)",
   "language": "python",
   "name": "python3"
  },
  "language_info": {
   "codemirror_mode": {
    "name": "ipython",
    "version": 3
   },
   "file_extension": ".py",
   "mimetype": "text/x-python",
   "name": "python",
   "nbconvert_exporter": "python",
   "pygments_lexer": "ipython3",
   "version": "3.10.12"
  }
 },
 "nbformat": 4,
 "nbformat_minor": 5
}
