{
 "cells": [
  {
   "cell_type": "raw",
   "id": "2cc3f7fc-2abf-4cc1-a7bc-8b0815059a56",
   "metadata": {},
   "source": [
    "!pip install pandas"
   ]
  },
  {
   "cell_type": "code",
   "execution_count": 66,
   "id": "ed972dc8-4d02-433f-b643-a873e0092587",
   "metadata": {},
   "outputs": [],
   "source": [
    "import pandas as pd"
   ]
  },
  {
   "cell_type": "code",
   "execution_count": 132,
   "id": "77330619-eaed-4a94-82dd-1d0bc7a4d413",
   "metadata": {},
   "outputs": [],
   "source": [
    "path_to_file = \"tscvetaeva.txt\"\n",
    "with open(path_to_file) as f:\n",
    "    text_song = f.readlines()\n",
    "#text_song\n",
    "\n",
    "df = pd.DataFrame(text_song, columns = [\"text\"])\n",
    "df = df[df[\"text\"] != \"\\n\"]\n",
    "df = df.reset_index(drop = True)\n",
    "\n",
    "l1 = []\n",
    "df2 = pd.DataFrame(columns = [\"text\"])\n",
    "for ind in df.index:\n",
    "    n1 = ind + 1\n",
    "    n = n1 % 4\n",
    "    if n == 1: \n",
    "        l1 = [df['text'][ind]]\n",
    "    else:\n",
    "        l1.append(df['text'][ind])\n",
    "    if n == 0: \n",
    "        text = \"\".join(l1)\n",
    "        new_row = pd.DataFrame([text], columns=['text'])\n",
    "        df2 = pd.concat([df2, new_row], ignore_index=True)\n",
    "        #text = \"\"\n",
    "\n",
    "df2[\"text\"] = df2.apply(lambda row: row[\"text\"][:-1] if row[\"text\"][-1] else row[\"text\"], axis = 1)\n",
    "df = df2\n",
    "\n",
    "#df2.values\n"
   ]
  },
  {
   "cell_type": "code",
   "execution_count": 139,
   "id": "d9941eaa-75bd-443b-88bc-f7532f4c133d",
   "metadata": {},
   "outputs": [],
   "source": [
    "df = pd.read_csv(\"паспорт хорошего русского - песня скомпилированная рифма AABB.csv\",)"
   ]
  },
  {
   "cell_type": "code",
   "execution_count": 125,
   "id": "3b5d770f-9575-449d-98f8-2584e7350d46",
   "metadata": {},
   "outputs": [
    {
     "data": {
      "text/plain": [
       "array(['Война против Украины – грех страшной силы,\\nВыводить войска, искуплять вину  теперь такие наши дела.\\nбез вольной Украины мы сами на краю могилы\\nМир и справедливость пока не сгорели мы дотла.'],\n",
       "      dtype=object)"
      ]
     },
     "execution_count": 125,
     "metadata": {},
     "output_type": "execute_result"
    }
   ],
   "source": [
    "df.iloc[0].values"
   ]
  },
  {
   "cell_type": "code",
   "execution_count": 137,
   "id": "7f6f6611-33d5-4e7b-93e9-47f221fbc980",
   "metadata": {},
   "outputs": [
    {
     "data": {
      "text/plain": [
       "array([list(['Уж сколько их упало в эту бездну', 'Разверстую вдали', 'Настанет день, когда и я исчезну', 'С поверхности земли'])],\n",
       "      dtype=object)"
      ]
     },
     "execution_count": 137,
     "metadata": {},
     "output_type": "execute_result"
    }
   ],
   "source": [
    "df.iloc[0].values"
   ]
  },
  {
   "cell_type": "code",
   "execution_count": 140,
   "id": "272f1080-19ce-416c-b72d-638a394d30f6",
   "metadata": {},
   "outputs": [],
   "source": [
    "def get_item(text):\n",
    "    arr = text.split(\"\\n\")\n",
    "    return list(map(lambda x: x if x[-1].isalpha() else x[:-1], arr))\n",
    "    \n",
    "#get_item(df.iloc[0].values[0])\n",
    "df[\"text\"] = df.apply(lambda raw:get_item(raw.iloc[0]), axis=1)"
   ]
  },
  {
   "cell_type": "code",
   "execution_count": 141,
   "id": "f297fb7d-9699-4703-8d3a-ec443939c215",
   "metadata": {},
   "outputs": [],
   "source": [
    "def get_rhyme_score(text1, text2):\n",
    "\n",
    "    #This function counts only the direct equals of symbols from the end of phrases \n",
    "    #and isn`t aware of fonetical equals\n",
    "    \n",
    "    n = 1\n",
    "    while (n < len(text1) or n < len(text2)):\n",
    "        c1 = text1[-n]\n",
    "        c2 = text2[-n] \n",
    "        #print(c1, c2)\n",
    "        if c1 == c2:\n",
    "            n = n+1\n",
    "        else:\n",
    "            break\n",
    "    return n - 1"
   ]
  },
  {
   "cell_type": "code",
   "execution_count": 142,
   "id": "57a38a59-18f8-4850-8046-caa23f34b46e",
   "metadata": {},
   "outputs": [
    {
     "ename": "KeyError",
     "evalue": "0",
     "output_type": "error",
     "traceback": [
      "\u001b[0;31m---------------------------------------------------------------------------\u001b[0m",
      "\u001b[0;31mKeyError\u001b[0m                                  Traceback (most recent call last)",
      "File \u001b[0;32m~/.local/lib/python3.10/site-packages/pandas/core/indexes/base.py:3790\u001b[0m, in \u001b[0;36mIndex.get_loc\u001b[0;34m(self, key)\u001b[0m\n\u001b[1;32m   3789\u001b[0m \u001b[38;5;28;01mtry\u001b[39;00m:\n\u001b[0;32m-> 3790\u001b[0m     \u001b[38;5;28;01mreturn\u001b[39;00m \u001b[38;5;28;43mself\u001b[39;49m\u001b[38;5;241;43m.\u001b[39;49m\u001b[43m_engine\u001b[49m\u001b[38;5;241;43m.\u001b[39;49m\u001b[43mget_loc\u001b[49m\u001b[43m(\u001b[49m\u001b[43mcasted_key\u001b[49m\u001b[43m)\u001b[49m\n\u001b[1;32m   3791\u001b[0m \u001b[38;5;28;01mexcept\u001b[39;00m \u001b[38;5;167;01mKeyError\u001b[39;00m \u001b[38;5;28;01mas\u001b[39;00m err:\n",
      "File \u001b[0;32mindex.pyx:152\u001b[0m, in \u001b[0;36mpandas._libs.index.IndexEngine.get_loc\u001b[0;34m()\u001b[0m\n",
      "File \u001b[0;32mindex.pyx:181\u001b[0m, in \u001b[0;36mpandas._libs.index.IndexEngine.get_loc\u001b[0;34m()\u001b[0m\n",
      "File \u001b[0;32mpandas/_libs/hashtable_class_helper.pxi:7080\u001b[0m, in \u001b[0;36mpandas._libs.hashtable.PyObjectHashTable.get_item\u001b[0;34m()\u001b[0m\n",
      "File \u001b[0;32mpandas/_libs/hashtable_class_helper.pxi:7088\u001b[0m, in \u001b[0;36mpandas._libs.hashtable.PyObjectHashTable.get_item\u001b[0;34m()\u001b[0m\n",
      "\u001b[0;31mKeyError\u001b[0m: 0",
      "\nThe above exception was the direct cause of the following exception:\n",
      "\u001b[0;31mKeyError\u001b[0m                                  Traceback (most recent call last)",
      "Cell \u001b[0;32mIn[142], line 1\u001b[0m\n\u001b[0;32m----> 1\u001b[0m \u001b[38;5;124m\"\u001b[39m\u001b[38;5;124mA\u001b[39m\u001b[38;5;124m\"\u001b[39m , get_rhyme_score(\u001b[43mdf\u001b[49m\u001b[43m[\u001b[49m\u001b[38;5;241;43m0\u001b[39;49m\u001b[43m]\u001b[49m[\u001b[38;5;241m0\u001b[39m], df[\u001b[38;5;241m0\u001b[39m][\u001b[38;5;241m1\u001b[39m]), get_rhyme_score(df[\u001b[38;5;241m0\u001b[39m][\u001b[38;5;241m0\u001b[39m], df[\u001b[38;5;241m0\u001b[39m][\u001b[38;5;241m2\u001b[39m]), get_rhyme_score(df[\u001b[38;5;241m0\u001b[39m][\u001b[38;5;241m0\u001b[39m], df[\u001b[38;5;241m0\u001b[39m][\u001b[38;5;241m3\u001b[39m])\n",
      "File \u001b[0;32m~/.local/lib/python3.10/site-packages/pandas/core/frame.py:3896\u001b[0m, in \u001b[0;36mDataFrame.__getitem__\u001b[0;34m(self, key)\u001b[0m\n\u001b[1;32m   3894\u001b[0m \u001b[38;5;28;01mif\u001b[39;00m \u001b[38;5;28mself\u001b[39m\u001b[38;5;241m.\u001b[39mcolumns\u001b[38;5;241m.\u001b[39mnlevels \u001b[38;5;241m>\u001b[39m \u001b[38;5;241m1\u001b[39m:\n\u001b[1;32m   3895\u001b[0m     \u001b[38;5;28;01mreturn\u001b[39;00m \u001b[38;5;28mself\u001b[39m\u001b[38;5;241m.\u001b[39m_getitem_multilevel(key)\n\u001b[0;32m-> 3896\u001b[0m indexer \u001b[38;5;241m=\u001b[39m \u001b[38;5;28;43mself\u001b[39;49m\u001b[38;5;241;43m.\u001b[39;49m\u001b[43mcolumns\u001b[49m\u001b[38;5;241;43m.\u001b[39;49m\u001b[43mget_loc\u001b[49m\u001b[43m(\u001b[49m\u001b[43mkey\u001b[49m\u001b[43m)\u001b[49m\n\u001b[1;32m   3897\u001b[0m \u001b[38;5;28;01mif\u001b[39;00m is_integer(indexer):\n\u001b[1;32m   3898\u001b[0m     indexer \u001b[38;5;241m=\u001b[39m [indexer]\n",
      "File \u001b[0;32m~/.local/lib/python3.10/site-packages/pandas/core/indexes/base.py:3797\u001b[0m, in \u001b[0;36mIndex.get_loc\u001b[0;34m(self, key)\u001b[0m\n\u001b[1;32m   3792\u001b[0m     \u001b[38;5;28;01mif\u001b[39;00m \u001b[38;5;28misinstance\u001b[39m(casted_key, \u001b[38;5;28mslice\u001b[39m) \u001b[38;5;129;01mor\u001b[39;00m (\n\u001b[1;32m   3793\u001b[0m         \u001b[38;5;28misinstance\u001b[39m(casted_key, abc\u001b[38;5;241m.\u001b[39mIterable)\n\u001b[1;32m   3794\u001b[0m         \u001b[38;5;129;01mand\u001b[39;00m \u001b[38;5;28many\u001b[39m(\u001b[38;5;28misinstance\u001b[39m(x, \u001b[38;5;28mslice\u001b[39m) \u001b[38;5;28;01mfor\u001b[39;00m x \u001b[38;5;129;01min\u001b[39;00m casted_key)\n\u001b[1;32m   3795\u001b[0m     ):\n\u001b[1;32m   3796\u001b[0m         \u001b[38;5;28;01mraise\u001b[39;00m InvalidIndexError(key)\n\u001b[0;32m-> 3797\u001b[0m     \u001b[38;5;28;01mraise\u001b[39;00m \u001b[38;5;167;01mKeyError\u001b[39;00m(key) \u001b[38;5;28;01mfrom\u001b[39;00m \u001b[38;5;21;01merr\u001b[39;00m\n\u001b[1;32m   3798\u001b[0m \u001b[38;5;28;01mexcept\u001b[39;00m \u001b[38;5;167;01mTypeError\u001b[39;00m:\n\u001b[1;32m   3799\u001b[0m     \u001b[38;5;66;03m# If we have a listlike key, _check_indexing_error will raise\u001b[39;00m\n\u001b[1;32m   3800\u001b[0m     \u001b[38;5;66;03m#  InvalidIndexError. Otherwise we fall through and re-raise\u001b[39;00m\n\u001b[1;32m   3801\u001b[0m     \u001b[38;5;66;03m#  the TypeError.\u001b[39;00m\n\u001b[1;32m   3802\u001b[0m     \u001b[38;5;28mself\u001b[39m\u001b[38;5;241m.\u001b[39m_check_indexing_error(key)\n",
      "\u001b[0;31mKeyError\u001b[0m: 0"
     ]
    }
   ],
   "source": [
    "\"A\" , get_rhyme_score(df[0][0], df[0][1]), get_rhyme_score(df[0][0], df[0][2]), get_rhyme_score(df[0][0], df[0][3])"
   ]
  },
  {
   "cell_type": "code",
   "execution_count": 143,
   "id": "aba1cfa9-52f7-4aaf-a881-c6eec16a319b",
   "metadata": {},
   "outputs": [
    {
     "ename": "KeyError",
     "evalue": "0",
     "output_type": "error",
     "traceback": [
      "\u001b[0;31m---------------------------------------------------------------------------\u001b[0m",
      "\u001b[0;31mKeyError\u001b[0m                                  Traceback (most recent call last)",
      "File \u001b[0;32m~/.local/lib/python3.10/site-packages/pandas/core/indexes/base.py:3790\u001b[0m, in \u001b[0;36mIndex.get_loc\u001b[0;34m(self, key)\u001b[0m\n\u001b[1;32m   3789\u001b[0m \u001b[38;5;28;01mtry\u001b[39;00m:\n\u001b[0;32m-> 3790\u001b[0m     \u001b[38;5;28;01mreturn\u001b[39;00m \u001b[38;5;28;43mself\u001b[39;49m\u001b[38;5;241;43m.\u001b[39;49m\u001b[43m_engine\u001b[49m\u001b[38;5;241;43m.\u001b[39;49m\u001b[43mget_loc\u001b[49m\u001b[43m(\u001b[49m\u001b[43mcasted_key\u001b[49m\u001b[43m)\u001b[49m\n\u001b[1;32m   3791\u001b[0m \u001b[38;5;28;01mexcept\u001b[39;00m \u001b[38;5;167;01mKeyError\u001b[39;00m \u001b[38;5;28;01mas\u001b[39;00m err:\n",
      "File \u001b[0;32mindex.pyx:152\u001b[0m, in \u001b[0;36mpandas._libs.index.IndexEngine.get_loc\u001b[0;34m()\u001b[0m\n",
      "File \u001b[0;32mindex.pyx:181\u001b[0m, in \u001b[0;36mpandas._libs.index.IndexEngine.get_loc\u001b[0;34m()\u001b[0m\n",
      "File \u001b[0;32mpandas/_libs/hashtable_class_helper.pxi:7080\u001b[0m, in \u001b[0;36mpandas._libs.hashtable.PyObjectHashTable.get_item\u001b[0;34m()\u001b[0m\n",
      "File \u001b[0;32mpandas/_libs/hashtable_class_helper.pxi:7088\u001b[0m, in \u001b[0;36mpandas._libs.hashtable.PyObjectHashTable.get_item\u001b[0;34m()\u001b[0m\n",
      "\u001b[0;31mKeyError\u001b[0m: 0",
      "\nThe above exception was the direct cause of the following exception:\n",
      "\u001b[0;31mKeyError\u001b[0m                                  Traceback (most recent call last)",
      "Cell \u001b[0;32mIn[143], line 1\u001b[0m\n\u001b[0;32m----> 1\u001b[0m \u001b[38;5;124m\"\u001b[39m\u001b[38;5;124mB\u001b[39m\u001b[38;5;124m\"\u001b[39m , get_rhyme_score(\u001b[43mdf\u001b[49m\u001b[43m[\u001b[49m\u001b[38;5;241;43m0\u001b[39;49m\u001b[43m]\u001b[49m[\u001b[38;5;241m1\u001b[39m], df[\u001b[38;5;241m0\u001b[39m][\u001b[38;5;241m2\u001b[39m]), get_rhyme_score(df[\u001b[38;5;241m0\u001b[39m][\u001b[38;5;241m1\u001b[39m], df[\u001b[38;5;241m0\u001b[39m][\u001b[38;5;241m3\u001b[39m])\n",
      "File \u001b[0;32m~/.local/lib/python3.10/site-packages/pandas/core/frame.py:3896\u001b[0m, in \u001b[0;36mDataFrame.__getitem__\u001b[0;34m(self, key)\u001b[0m\n\u001b[1;32m   3894\u001b[0m \u001b[38;5;28;01mif\u001b[39;00m \u001b[38;5;28mself\u001b[39m\u001b[38;5;241m.\u001b[39mcolumns\u001b[38;5;241m.\u001b[39mnlevels \u001b[38;5;241m>\u001b[39m \u001b[38;5;241m1\u001b[39m:\n\u001b[1;32m   3895\u001b[0m     \u001b[38;5;28;01mreturn\u001b[39;00m \u001b[38;5;28mself\u001b[39m\u001b[38;5;241m.\u001b[39m_getitem_multilevel(key)\n\u001b[0;32m-> 3896\u001b[0m indexer \u001b[38;5;241m=\u001b[39m \u001b[38;5;28;43mself\u001b[39;49m\u001b[38;5;241;43m.\u001b[39;49m\u001b[43mcolumns\u001b[49m\u001b[38;5;241;43m.\u001b[39;49m\u001b[43mget_loc\u001b[49m\u001b[43m(\u001b[49m\u001b[43mkey\u001b[49m\u001b[43m)\u001b[49m\n\u001b[1;32m   3897\u001b[0m \u001b[38;5;28;01mif\u001b[39;00m is_integer(indexer):\n\u001b[1;32m   3898\u001b[0m     indexer \u001b[38;5;241m=\u001b[39m [indexer]\n",
      "File \u001b[0;32m~/.local/lib/python3.10/site-packages/pandas/core/indexes/base.py:3797\u001b[0m, in \u001b[0;36mIndex.get_loc\u001b[0;34m(self, key)\u001b[0m\n\u001b[1;32m   3792\u001b[0m     \u001b[38;5;28;01mif\u001b[39;00m \u001b[38;5;28misinstance\u001b[39m(casted_key, \u001b[38;5;28mslice\u001b[39m) \u001b[38;5;129;01mor\u001b[39;00m (\n\u001b[1;32m   3793\u001b[0m         \u001b[38;5;28misinstance\u001b[39m(casted_key, abc\u001b[38;5;241m.\u001b[39mIterable)\n\u001b[1;32m   3794\u001b[0m         \u001b[38;5;129;01mand\u001b[39;00m \u001b[38;5;28many\u001b[39m(\u001b[38;5;28misinstance\u001b[39m(x, \u001b[38;5;28mslice\u001b[39m) \u001b[38;5;28;01mfor\u001b[39;00m x \u001b[38;5;129;01min\u001b[39;00m casted_key)\n\u001b[1;32m   3795\u001b[0m     ):\n\u001b[1;32m   3796\u001b[0m         \u001b[38;5;28;01mraise\u001b[39;00m InvalidIndexError(key)\n\u001b[0;32m-> 3797\u001b[0m     \u001b[38;5;28;01mraise\u001b[39;00m \u001b[38;5;167;01mKeyError\u001b[39;00m(key) \u001b[38;5;28;01mfrom\u001b[39;00m \u001b[38;5;21;01merr\u001b[39;00m\n\u001b[1;32m   3798\u001b[0m \u001b[38;5;28;01mexcept\u001b[39;00m \u001b[38;5;167;01mTypeError\u001b[39;00m:\n\u001b[1;32m   3799\u001b[0m     \u001b[38;5;66;03m# If we have a listlike key, _check_indexing_error will raise\u001b[39;00m\n\u001b[1;32m   3800\u001b[0m     \u001b[38;5;66;03m#  InvalidIndexError. Otherwise we fall through and re-raise\u001b[39;00m\n\u001b[1;32m   3801\u001b[0m     \u001b[38;5;66;03m#  the TypeError.\u001b[39;00m\n\u001b[1;32m   3802\u001b[0m     \u001b[38;5;28mself\u001b[39m\u001b[38;5;241m.\u001b[39m_check_indexing_error(key)\n",
      "\u001b[0;31mKeyError\u001b[0m: 0"
     ]
    }
   ],
   "source": [
    "\"B\" , get_rhyme_score(df[0][1], df[0][2]), get_rhyme_score(df[0][1], df[0][3])"
   ]
  },
  {
   "cell_type": "code",
   "execution_count": 144,
   "id": "ce77abca-49a0-48bc-ac1f-86a02ffed8b3",
   "metadata": {},
   "outputs": [],
   "source": [
    "def get_rhyme_score_of_quatrain(l4_quatrain):\n",
    "    l1 = l4_quatrain\n",
    "    letters = \"ABCD\"\n",
    "    n = len(letters)\n",
    "    scores = [None] * n \n",
    "    for i in range(0,n):\n",
    "        current_letter = letters[i]\n",
    "        if scores[i] is None: \n",
    "#            scores[i] = {current_letter:100}\n",
    "            scores[i] = {current_letter}\n",
    "        for j in range(i+1,n):\n",
    "            score = get_rhyme_score(l1[i], l1[j])\n",
    "            if (score > 0):\n",
    "                scores[j] = {current_letter:score}\n",
    "    return scores"
   ]
  },
  {
   "cell_type": "code",
   "execution_count": 145,
   "id": "2d020bd0-a728-46c6-859f-943d7e95240f",
   "metadata": {},
   "outputs": [
    {
     "name": "stderr",
     "output_type": "stream",
     "text": [
      "/tmp/ipykernel_20036/2100053303.py:12: FutureWarning: Series.__getitem__ treating keys as positions is deprecated. In a future version, integer keys will always be treated as labels (consistent with DataFrame behavior). To access a value by position, use `ser.iloc[pos]`\n",
      "  score = get_rhyme_score(l1[i], l1[j])\n"
     ]
    },
    {
     "ename": "IndexError",
     "evalue": "index 1 is out of bounds for axis 0 with size 1",
     "output_type": "error",
     "traceback": [
      "\u001b[0;31m---------------------------------------------------------------------------\u001b[0m",
      "\u001b[0;31mIndexError\u001b[0m                                Traceback (most recent call last)",
      "Cell \u001b[0;32mIn[145], line 2\u001b[0m\n\u001b[1;32m      1\u001b[0m l1 \u001b[38;5;241m=\u001b[39m df\u001b[38;5;241m.\u001b[39miloc[\u001b[38;5;241m6\u001b[39m]\n\u001b[0;32m----> 2\u001b[0m l1 , \u001b[43mget_rhyme_score_of_quatrain\u001b[49m\u001b[43m(\u001b[49m\u001b[43ml1\u001b[49m\u001b[43m)\u001b[49m\n",
      "Cell \u001b[0;32mIn[144], line 12\u001b[0m, in \u001b[0;36mget_rhyme_score_of_quatrain\u001b[0;34m(l4_quatrain)\u001b[0m\n\u001b[1;32m     10\u001b[0m     scores[i] \u001b[38;5;241m=\u001b[39m {current_letter}\n\u001b[1;32m     11\u001b[0m \u001b[38;5;28;01mfor\u001b[39;00m j \u001b[38;5;129;01min\u001b[39;00m \u001b[38;5;28mrange\u001b[39m(i\u001b[38;5;241m+\u001b[39m\u001b[38;5;241m1\u001b[39m,n):\n\u001b[0;32m---> 12\u001b[0m     score \u001b[38;5;241m=\u001b[39m get_rhyme_score(l1[i], \u001b[43ml1\u001b[49m\u001b[43m[\u001b[49m\u001b[43mj\u001b[49m\u001b[43m]\u001b[49m)\n\u001b[1;32m     13\u001b[0m     \u001b[38;5;28;01mif\u001b[39;00m (score \u001b[38;5;241m>\u001b[39m \u001b[38;5;241m0\u001b[39m):\n\u001b[1;32m     14\u001b[0m         scores[j] \u001b[38;5;241m=\u001b[39m {current_letter:score}\n",
      "File \u001b[0;32m~/.local/lib/python3.10/site-packages/pandas/core/series.py:1037\u001b[0m, in \u001b[0;36mSeries.__getitem__\u001b[0;34m(self, key)\u001b[0m\n\u001b[1;32m   1027\u001b[0m \u001b[38;5;28;01mif\u001b[39;00m is_integer(key) \u001b[38;5;129;01mand\u001b[39;00m \u001b[38;5;28mself\u001b[39m\u001b[38;5;241m.\u001b[39mindex\u001b[38;5;241m.\u001b[39m_should_fallback_to_positional:\n\u001b[1;32m   1028\u001b[0m     warnings\u001b[38;5;241m.\u001b[39mwarn(\n\u001b[1;32m   1029\u001b[0m         \u001b[38;5;66;03m# GH#50617\u001b[39;00m\n\u001b[1;32m   1030\u001b[0m         \u001b[38;5;124m\"\u001b[39m\u001b[38;5;124mSeries.__getitem__ treating keys as positions is deprecated. \u001b[39m\u001b[38;5;124m\"\u001b[39m\n\u001b[0;32m   (...)\u001b[0m\n\u001b[1;32m   1035\u001b[0m         stacklevel\u001b[38;5;241m=\u001b[39mfind_stack_level(),\n\u001b[1;32m   1036\u001b[0m     )\n\u001b[0;32m-> 1037\u001b[0m     \u001b[38;5;28;01mreturn\u001b[39;00m \u001b[38;5;28;43mself\u001b[39;49m\u001b[38;5;241;43m.\u001b[39;49m\u001b[43m_values\u001b[49m\u001b[43m[\u001b[49m\u001b[43mkey\u001b[49m\u001b[43m]\u001b[49m\n\u001b[1;32m   1039\u001b[0m \u001b[38;5;28;01melif\u001b[39;00m key_is_scalar:\n\u001b[1;32m   1040\u001b[0m     \u001b[38;5;28;01mreturn\u001b[39;00m \u001b[38;5;28mself\u001b[39m\u001b[38;5;241m.\u001b[39m_get_value(key)\n",
      "\u001b[0;31mIndexError\u001b[0m: index 1 is out of bounds for axis 0 with size 1"
     ]
    }
   ],
   "source": [
    "l1 = df.iloc[6]\n",
    "l1 , get_rhyme_score_of_quatrain(l1)"
   ]
  },
  {
   "cell_type": "code",
   "execution_count": 16,
   "id": "48de80f1-72fb-40d7-8bd5-acc48174cb8b",
   "metadata": {},
   "outputs": [],
   "source": [
    "df[\"scores\"] = df.apply(lambda raw: get_rhyme_score_of_quatrain(raw.iloc[0]), axis = 1)"
   ]
  },
  {
   "cell_type": "code",
   "execution_count": 17,
   "id": "c3a5c25c-d622-4d99-8835-103c22fd0911",
   "metadata": {},
   "outputs": [
    {
     "data": {
      "text/html": [
       "<div>\n",
       "<style scoped>\n",
       "    .dataframe tbody tr th:only-of-type {\n",
       "        vertical-align: middle;\n",
       "    }\n",
       "\n",
       "    .dataframe tbody tr th {\n",
       "        vertical-align: top;\n",
       "    }\n",
       "\n",
       "    .dataframe thead th {\n",
       "        text-align: right;\n",
       "    }\n",
       "</style>\n",
       "<table border=\"1\" class=\"dataframe\">\n",
       "  <thead>\n",
       "    <tr style=\"text-align: right;\">\n",
       "      <th></th>\n",
       "      <th>text</th>\n",
       "      <th>scores</th>\n",
       "    </tr>\n",
       "  </thead>\n",
       "  <tbody>\n",
       "    <tr>\n",
       "      <th>0</th>\n",
       "      <td>[Война против Украины – грех страшной силы, Вы...</td>\n",
       "      <td>[{A}, {B}, {'A': 3}, {'B': 2}]</td>\n",
       "    </tr>\n",
       "    <tr>\n",
       "      <th>1</th>\n",
       "      <td>[Путинский режим вызывает ненавись в наших гла...</td>\n",
       "      <td>[{A}, {B}, {'A': 1}, {'C': 2}]</td>\n",
       "    </tr>\n",
       "    <tr>\n",
       "      <th>2</th>\n",
       "      <td>[Власть империи внутри и за пределами земель, ...</td>\n",
       "      <td>[{A}, {'A': 1}, {C}, {'C': 2}]</td>\n",
       "    </tr>\n",
       "    <tr>\n",
       "      <th>3</th>\n",
       "      <td>[Политузников и пленных надо освободить скорей...</td>\n",
       "      <td>[{A}, {'A': 2}, {C}, {'C': 1}]</td>\n",
       "    </tr>\n",
       "    <tr>\n",
       "      <th>4</th>\n",
       "      <td>[Солидарность  голосов наших решительна, Нет и...</td>\n",
       "      <td>[{A}, {'A': 2}, {C}, {'C': 2}]</td>\n",
       "    </tr>\n",
       "    <tr>\n",
       "      <th>5</th>\n",
       "      <td>[Наша Декларация ценность воли разделяя,, Уваж...</td>\n",
       "      <td>[{A}, {B}, {'A': 1}, {D}]</td>\n",
       "    </tr>\n",
       "    <tr>\n",
       "      <th>6</th>\n",
       "      <td>[Вместе стоим в рядах антивоенных, Публичному ...</td>\n",
       "      <td>[{A}, {B}, {C}, {'C': 2}]</td>\n",
       "    </tr>\n",
       "  </tbody>\n",
       "</table>\n",
       "</div>"
      ],
      "text/plain": [
       "                                                text  \\\n",
       "0  [Война против Украины – грех страшной силы, Вы...   \n",
       "1  [Путинский режим вызывает ненавись в наших гла...   \n",
       "2  [Власть империи внутри и за пределами земель, ...   \n",
       "3  [Политузников и пленных надо освободить скорей...   \n",
       "4  [Солидарность  голосов наших решительна, Нет и...   \n",
       "5  [Наша Декларация ценность воли разделяя,, Уваж...   \n",
       "6  [Вместе стоим в рядах антивоенных, Публичному ...   \n",
       "\n",
       "                           scores  \n",
       "0  [{A}, {B}, {'A': 3}, {'B': 2}]  \n",
       "1  [{A}, {B}, {'A': 1}, {'C': 2}]  \n",
       "2  [{A}, {'A': 1}, {C}, {'C': 2}]  \n",
       "3  [{A}, {'A': 2}, {C}, {'C': 1}]  \n",
       "4  [{A}, {'A': 2}, {C}, {'C': 2}]  \n",
       "5       [{A}, {B}, {'A': 1}, {D}]  \n",
       "6       [{A}, {B}, {C}, {'C': 2}]  "
      ]
     },
     "execution_count": 17,
     "metadata": {},
     "output_type": "execute_result"
    }
   ],
   "source": [
    "df"
   ]
  },
  {
   "cell_type": "markdown",
   "id": "a6a99bb5-a37b-4eba-b340-6b9fb1b1f06c",
   "metadata": {},
   "source": [
    "### Let`s control the different cases:"
   ]
  },
  {
   "cell_type": "code",
   "execution_count": 21,
   "id": "51e2caa9-afe2-4ed2-be27-a906d1d182d8",
   "metadata": {},
   "outputs": [
    {
     "data": {
      "text/plain": [
       "array([list(['Война против Украины – грех страшной силы', 'Выводить войска, искуплять вину  теперь такие наши дела', 'без вольной Украины мы сами на краю могилы', 'Мир и справедливость пока не сгорели мы дотла']),\n",
       "       list([{'A'}, {'B'}, {'A': 3}, {'B': 2}])], dtype=object)"
      ]
     },
     "execution_count": 21,
     "metadata": {},
     "output_type": "execute_result"
    }
   ],
   "source": [
    "df.iloc[0].values\n",
    "#here is Ok, ABAB"
   ]
  },
  {
   "cell_type": "code",
   "execution_count": 24,
   "id": "95572b4f-5230-43ec-b835-7ba4c7c248be",
   "metadata": {},
   "outputs": [
    {
     "data": {
      "text/plain": [
       "array([list(['Путинский режим вызывает ненавись в наших глазах', 'Ликвидация режима это долго, но верный выбор наш', 'Мы мечтаем о России, где права есть у всех', 'Народ без Путина, в этом первый наш успех']),\n",
       "       list([{'A'}, {'B'}, {'A': 1}, {'C': 2}])], dtype=object)"
      ]
     },
     "execution_count": 24,
     "metadata": {},
     "output_type": "execute_result"
    }
   ],
   "source": [
    "df.iloc[1].values\n",
    "#here is ABAC, should be AABB\n",
    "#because phonetically ах ~ аш"
   ]
  },
  {
   "cell_type": "code",
   "execution_count": 25,
   "id": "ef17b550-9716-4c6e-aca6-15cdb4d26c7b",
   "metadata": {},
   "outputs": [
    {
     "data": {
      "text/plain": [
       "array([list(['Вместе стоим в рядах антивоенных', 'Публичному согласию мы знаем цену', 'Солидарность и единство нам важны как никогда', 'Из пепла восстанут наши города']),\n",
       "       list([{'A'}, {'B'}, {'C'}, {'C': 2}])], dtype=object)"
      ]
     },
     "execution_count": 25,
     "metadata": {},
     "output_type": "execute_result"
    }
   ],
   "source": [
    "df.iloc[6].values\n",
    "#here is ABCC, should be AABB \n",
    "#because phonetically ных ~ ну"
   ]
  },
  {
   "cell_type": "markdown",
   "id": "9e46671f-3006-475d-8988-e77922c07272",
   "metadata": {},
   "source": [
    "### Conclusion: the get_rhyme_score(text1, text2) should be extended for fonetical equal phrases\n",
    "## theory here https://stihi.ru/2011/10/19/7548#:~:text=%D0%9D%D0%B5%D1%82%D0%BE%D1%87%D0%BD%D0%B0%D1%8F%20%D1%80%D0%B8%D1%84%D0%BC%D0%B0%20%D1%85%D0%B0%D1%80%D0%B0%D0%BA%D1%82%D0%B5%D1%80%D0%B8%D0%B7%D1%83%D0%B5%D1%82%D1%81%D1%8F%20%D1%80%D0%B0%D0%B7%D0%BB%D0%B8%D1%87%D0%B8%D1%8F%D0%BC%D0%B8%20%D0%B2,%D1%81%D0%BB%D0%BE%D0%B3%D0%B0%D1%85%2C%20%D1%80%D0%B0%D1%81%D0%BF%D0%BE%D0%BB%D0%BE%D0%B6%D0%B5%D0%BD%D0%BD%D1%8B%D1%85%20%D0%B2%20%D0%BE%D0%BA%D0%BE%D0%BD%D1%87%D0%B0%D0%BD%D0%B8%D1%8F%D1%85%20%D1%81%D1%82%D1%80%D0%BE%D0%BA.\n"
   ]
  },
  {
   "cell_type": "code",
   "execution_count": 5,
   "id": "dcc4f3fc-df8a-499a-b3ee-bf7c05234c82",
   "metadata": {},
   "outputs": [],
   "source": [
    "def is_Consonance():\n",
    "\n",
    "    #https://ru.wikipedia.org/wiki/%D0%9A%D0%BE%D0%BD%D1%81%D0%BE%D0%BD%D0%B0%D0%BD%D1%81_(%D0%B7%D0%BD%D0%B0%D1%87%D0%B5%D0%BD%D0%B8%D1%8F)\n",
    "    return False\n",
    "\n",
    "def is_Assonance():\n",
    "\n",
    "    #https://en.wikipedia.org/wiki/Assonance\n",
    "    return False\n",
    "    \n"
   ]
  },
  {
   "cell_type": "code",
   "execution_count": null,
   "id": "d3e0a29d-64df-404c-8b05-6773e9f38b19",
   "metadata": {},
   "outputs": [],
   "source": []
  }
 ],
 "metadata": {
  "kernelspec": {
   "display_name": "Python 3 (ipykernel)",
   "language": "python",
   "name": "python3"
  },
  "language_info": {
   "codemirror_mode": {
    "name": "ipython",
    "version": 3
   },
   "file_extension": ".py",
   "mimetype": "text/x-python",
   "name": "python",
   "nbconvert_exporter": "python",
   "pygments_lexer": "ipython3",
   "version": "3.10.12"
  }
 },
 "nbformat": 4,
 "nbformat_minor": 5
}
