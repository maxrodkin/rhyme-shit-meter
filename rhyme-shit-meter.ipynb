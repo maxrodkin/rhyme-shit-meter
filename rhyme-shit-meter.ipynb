{
 "cells": [
  {
   "cell_type": "raw",
   "id": "2cc3f7fc-2abf-4cc1-a7bc-8b0815059a56",
   "metadata": {},
   "source": [
    "!pip install pandas"
   ]
  },
  {
   "cell_type": "code",
   "execution_count": 1,
   "id": "ed972dc8-4d02-433f-b643-a873e0092587",
   "metadata": {},
   "outputs": [],
   "source": [
    "import pandas as pd"
   ]
  },
  {
   "cell_type": "code",
   "execution_count": 11,
   "id": "d9941eaa-75bd-443b-88bc-f7532f4c133d",
   "metadata": {},
   "outputs": [],
   "source": [
    "df = pd.read_csv(\"паспорт хорошего русского - песня скомпилированная рифма AABB.csv\",)"
   ]
  },
  {
   "cell_type": "code",
   "execution_count": 14,
   "id": "3b5d770f-9575-449d-98f8-2584e7350d46",
   "metadata": {},
   "outputs": [
    {
     "data": {
      "text/html": [
       "<div>\n",
       "<style scoped>\n",
       "    .dataframe tbody tr th:only-of-type {\n",
       "        vertical-align: middle;\n",
       "    }\n",
       "\n",
       "    .dataframe tbody tr th {\n",
       "        vertical-align: top;\n",
       "    }\n",
       "\n",
       "    .dataframe thead th {\n",
       "        text-align: right;\n",
       "    }\n",
       "</style>\n",
       "<table border=\"1\" class=\"dataframe\">\n",
       "  <thead>\n",
       "    <tr style=\"text-align: right;\">\n",
       "      <th></th>\n",
       "      <th>text</th>\n",
       "    </tr>\n",
       "  </thead>\n",
       "  <tbody>\n",
       "    <tr>\n",
       "      <th>0</th>\n",
       "      <td>[Война против Украины – грех страшной силы, Вы...</td>\n",
       "    </tr>\n",
       "    <tr>\n",
       "      <th>1</th>\n",
       "      <td>[Путинский режим вызывает ненавись в наших гла...</td>\n",
       "    </tr>\n",
       "    <tr>\n",
       "      <th>2</th>\n",
       "      <td>[Власть империи внутри и за пределами земель, ...</td>\n",
       "    </tr>\n",
       "    <tr>\n",
       "      <th>3</th>\n",
       "      <td>[Политузников и пленных надо освободить скорей...</td>\n",
       "    </tr>\n",
       "    <tr>\n",
       "      <th>4</th>\n",
       "      <td>[Солидарность  голосов наших решительна, Нет и...</td>\n",
       "    </tr>\n",
       "    <tr>\n",
       "      <th>5</th>\n",
       "      <td>[Наша Декларация ценность воли разделяя,, Уваж...</td>\n",
       "    </tr>\n",
       "    <tr>\n",
       "      <th>6</th>\n",
       "      <td>[Вместе стоим в рядах антивоенных, Публичному ...</td>\n",
       "    </tr>\n",
       "  </tbody>\n",
       "</table>\n",
       "</div>"
      ],
      "text/plain": [
       "                                                text\n",
       "0  [Война против Украины – грех страшной силы, Вы...\n",
       "1  [Путинский режим вызывает ненавись в наших гла...\n",
       "2  [Власть империи внутри и за пределами земель, ...\n",
       "3  [Политузников и пленных надо освободить скорей...\n",
       "4  [Солидарность  голосов наших решительна, Нет и...\n",
       "5  [Наша Декларация ценность воли разделяя,, Уваж...\n",
       "6  [Вместе стоим в рядах антивоенных, Публичному ..."
      ]
     },
     "execution_count": 14,
     "metadata": {},
     "output_type": "execute_result"
    }
   ],
   "source": [
    "df"
   ]
  },
  {
   "cell_type": "code",
   "execution_count": 13,
   "id": "272f1080-19ce-416c-b72d-638a394d30f6",
   "metadata": {},
   "outputs": [],
   "source": [
    "def get_item(text):\n",
    "    arr = text.split(\"\\n\")\n",
    "    return list(map(lambda x: x if x[-1].isalpha() else x[:-1], arr))\n",
    "    \n",
    "#get_item(df.iloc[0].values[0])\n",
    "df[\"text\"] = df.apply(lambda raw:get_item(raw.iloc[0]), axis=1)"
   ]
  },
  {
   "cell_type": "code",
   "execution_count": 5,
   "id": "f297fb7d-9699-4703-8d3a-ec443939c215",
   "metadata": {},
   "outputs": [],
   "source": [
    "def get_rhyme_score(text1, text2):\n",
    "\n",
    "    #This function counts only the direct equals of symbols from the end of phrases \n",
    "    #and isn`t aware of fonetical equals\n",
    "    \n",
    "    n = 1\n",
    "    while (n < len(text1) or n < len(text2)):\n",
    "        c1 = text1[-n]\n",
    "        c2 = text2[-n] \n",
    "        #print(c1, c2)\n",
    "        if c1 == c2:\n",
    "            n = n+1\n",
    "        else:\n",
    "            break\n",
    "    return n - 1"
   ]
  },
  {
   "cell_type": "code",
   "execution_count": 6,
   "id": "57a38a59-18f8-4850-8046-caa23f34b46e",
   "metadata": {},
   "outputs": [
    {
     "data": {
      "text/plain": [
       "('A', 0, 3, 0)"
      ]
     },
     "execution_count": 6,
     "metadata": {},
     "output_type": "execute_result"
    }
   ],
   "source": [
    "\"A\" , get_rhyme_score(df[0][0], df[0][1]), get_rhyme_score(df[0][0], df[0][2]), get_rhyme_score(df[0][0], df[0][3])"
   ]
  },
  {
   "cell_type": "code",
   "execution_count": 7,
   "id": "aba1cfa9-52f7-4aaf-a881-c6eec16a319b",
   "metadata": {},
   "outputs": [
    {
     "data": {
      "text/plain": [
       "('B', 0, 2)"
      ]
     },
     "execution_count": 7,
     "metadata": {},
     "output_type": "execute_result"
    }
   ],
   "source": [
    "\"B\" , get_rhyme_score(df[0][1], df[0][2]), get_rhyme_score(df[0][1], df[0][3])"
   ]
  },
  {
   "cell_type": "code",
   "execution_count": 8,
   "id": "ce77abca-49a0-48bc-ac1f-86a02ffed8b3",
   "metadata": {},
   "outputs": [],
   "source": [
    "def get_rhyme_score_of_quatrain(l4_quatrain):\n",
    "    l1 = l4_quatrain\n",
    "    letters = \"ABCD\"\n",
    "    n = len(letters)\n",
    "    scores = [None] * n \n",
    "    for i in range(0,n):\n",
    "        current_letter = letters[i]\n",
    "        if scores[i] is None: \n",
    "#            scores[i] = {current_letter:100}\n",
    "            scores[i] = {current_letter}\n",
    "        for j in range(i+1,n):\n",
    "            score = get_rhyme_score(l1[i], l1[j])\n",
    "            if (score > 0):\n",
    "                scores[j] = {current_letter:score}\n",
    "    return scores"
   ]
  },
  {
   "cell_type": "code",
   "execution_count": 9,
   "id": "2d020bd0-a728-46c6-859f-943d7e95240f",
   "metadata": {},
   "outputs": [
    {
     "data": {
      "text/plain": [
       "(['Вместе стоим в рядах антивоенных',\n",
       "  'Публичному согласию мы знаем цену',\n",
       "  'Солидарность и единство нам важны как никогда',\n",
       "  'Из пепла восстанут наши города'],\n",
       " [{'A'}, {'B'}, {'C'}, {'C': 2}])"
      ]
     },
     "execution_count": 9,
     "metadata": {},
     "output_type": "execute_result"
    }
   ],
   "source": [
    "l1 = df.iloc[6]\n",
    "l1 , get_rhyme_score_of_quatrain(l1)"
   ]
  },
  {
   "cell_type": "code",
   "execution_count": 16,
   "id": "48de80f1-72fb-40d7-8bd5-acc48174cb8b",
   "metadata": {},
   "outputs": [],
   "source": [
    "df[\"scores\"] = df.apply(lambda raw: get_rhyme_score_of_quatrain(raw.iloc[0]), axis = 1)"
   ]
  },
  {
   "cell_type": "code",
   "execution_count": 17,
   "id": "c3a5c25c-d622-4d99-8835-103c22fd0911",
   "metadata": {},
   "outputs": [
    {
     "data": {
      "text/html": [
       "<div>\n",
       "<style scoped>\n",
       "    .dataframe tbody tr th:only-of-type {\n",
       "        vertical-align: middle;\n",
       "    }\n",
       "\n",
       "    .dataframe tbody tr th {\n",
       "        vertical-align: top;\n",
       "    }\n",
       "\n",
       "    .dataframe thead th {\n",
       "        text-align: right;\n",
       "    }\n",
       "</style>\n",
       "<table border=\"1\" class=\"dataframe\">\n",
       "  <thead>\n",
       "    <tr style=\"text-align: right;\">\n",
       "      <th></th>\n",
       "      <th>text</th>\n",
       "      <th>scores</th>\n",
       "    </tr>\n",
       "  </thead>\n",
       "  <tbody>\n",
       "    <tr>\n",
       "      <th>0</th>\n",
       "      <td>[Война против Украины – грех страшной силы, Вы...</td>\n",
       "      <td>[{A}, {B}, {'A': 3}, {'B': 2}]</td>\n",
       "    </tr>\n",
       "    <tr>\n",
       "      <th>1</th>\n",
       "      <td>[Путинский режим вызывает ненавись в наших гла...</td>\n",
       "      <td>[{A}, {B}, {'A': 1}, {'C': 2}]</td>\n",
       "    </tr>\n",
       "    <tr>\n",
       "      <th>2</th>\n",
       "      <td>[Власть империи внутри и за пределами земель, ...</td>\n",
       "      <td>[{A}, {'A': 1}, {C}, {'C': 2}]</td>\n",
       "    </tr>\n",
       "    <tr>\n",
       "      <th>3</th>\n",
       "      <td>[Политузников и пленных надо освободить скорей...</td>\n",
       "      <td>[{A}, {'A': 2}, {C}, {'C': 1}]</td>\n",
       "    </tr>\n",
       "    <tr>\n",
       "      <th>4</th>\n",
       "      <td>[Солидарность  голосов наших решительна, Нет и...</td>\n",
       "      <td>[{A}, {'A': 2}, {C}, {'C': 2}]</td>\n",
       "    </tr>\n",
       "    <tr>\n",
       "      <th>5</th>\n",
       "      <td>[Наша Декларация ценность воли разделяя,, Уваж...</td>\n",
       "      <td>[{A}, {B}, {'A': 1}, {D}]</td>\n",
       "    </tr>\n",
       "    <tr>\n",
       "      <th>6</th>\n",
       "      <td>[Вместе стоим в рядах антивоенных, Публичному ...</td>\n",
       "      <td>[{A}, {B}, {C}, {'C': 2}]</td>\n",
       "    </tr>\n",
       "  </tbody>\n",
       "</table>\n",
       "</div>"
      ],
      "text/plain": [
       "                                                text  \\\n",
       "0  [Война против Украины – грех страшной силы, Вы...   \n",
       "1  [Путинский режим вызывает ненавись в наших гла...   \n",
       "2  [Власть империи внутри и за пределами земель, ...   \n",
       "3  [Политузников и пленных надо освободить скорей...   \n",
       "4  [Солидарность  голосов наших решительна, Нет и...   \n",
       "5  [Наша Декларация ценность воли разделяя,, Уваж...   \n",
       "6  [Вместе стоим в рядах антивоенных, Публичному ...   \n",
       "\n",
       "                           scores  \n",
       "0  [{A}, {B}, {'A': 3}, {'B': 2}]  \n",
       "1  [{A}, {B}, {'A': 1}, {'C': 2}]  \n",
       "2  [{A}, {'A': 1}, {C}, {'C': 2}]  \n",
       "3  [{A}, {'A': 2}, {C}, {'C': 1}]  \n",
       "4  [{A}, {'A': 2}, {C}, {'C': 2}]  \n",
       "5       [{A}, {B}, {'A': 1}, {D}]  \n",
       "6       [{A}, {B}, {C}, {'C': 2}]  "
      ]
     },
     "execution_count": 17,
     "metadata": {},
     "output_type": "execute_result"
    }
   ],
   "source": [
    "df"
   ]
  },
  {
   "cell_type": "markdown",
   "id": "a6a99bb5-a37b-4eba-b340-6b9fb1b1f06c",
   "metadata": {},
   "source": [
    "### Let`s control the different cases:"
   ]
  },
  {
   "cell_type": "code",
   "execution_count": 21,
   "id": "51e2caa9-afe2-4ed2-be27-a906d1d182d8",
   "metadata": {},
   "outputs": [
    {
     "data": {
      "text/plain": [
       "array([list(['Война против Украины – грех страшной силы', 'Выводить войска, искуплять вину  теперь такие наши дела', 'без вольной Украины мы сами на краю могилы', 'Мир и справедливость пока не сгорели мы дотла']),\n",
       "       list([{'A'}, {'B'}, {'A': 3}, {'B': 2}])], dtype=object)"
      ]
     },
     "execution_count": 21,
     "metadata": {},
     "output_type": "execute_result"
    }
   ],
   "source": [
    "df.iloc[0].values\n",
    "#here is Ok, ABAB"
   ]
  },
  {
   "cell_type": "code",
   "execution_count": 24,
   "id": "95572b4f-5230-43ec-b835-7ba4c7c248be",
   "metadata": {},
   "outputs": [
    {
     "data": {
      "text/plain": [
       "array([list(['Путинский режим вызывает ненавись в наших глазах', 'Ликвидация режима это долго, но верный выбор наш', 'Мы мечтаем о России, где права есть у всех', 'Народ без Путина, в этом первый наш успех']),\n",
       "       list([{'A'}, {'B'}, {'A': 1}, {'C': 2}])], dtype=object)"
      ]
     },
     "execution_count": 24,
     "metadata": {},
     "output_type": "execute_result"
    }
   ],
   "source": [
    "df.iloc[1].values\n",
    "#here is ABAC, should be AABB\n",
    "#because phonetically ах ~ аш"
   ]
  },
  {
   "cell_type": "code",
   "execution_count": 25,
   "id": "ef17b550-9716-4c6e-aca6-15cdb4d26c7b",
   "metadata": {},
   "outputs": [
    {
     "data": {
      "text/plain": [
       "array([list(['Вместе стоим в рядах антивоенных', 'Публичному согласию мы знаем цену', 'Солидарность и единство нам важны как никогда', 'Из пепла восстанут наши города']),\n",
       "       list([{'A'}, {'B'}, {'C'}, {'C': 2}])], dtype=object)"
      ]
     },
     "execution_count": 25,
     "metadata": {},
     "output_type": "execute_result"
    }
   ],
   "source": [
    "df.iloc[6].values\n",
    "#here is ABCC, should be AABB \n",
    "#because phonetically ных ~ ну"
   ]
  },
  {
   "cell_type": "markdown",
   "id": "9e46671f-3006-475d-8988-e77922c07272",
   "metadata": {},
   "source": [
    "### Conclusion: the get_rhyme_score(text1, text2) should be extended for fonetical equal phrases"
   ]
  },
  {
   "cell_type": "code",
   "execution_count": null,
   "id": "dcc4f3fc-df8a-499a-b3ee-bf7c05234c82",
   "metadata": {},
   "outputs": [],
   "source": []
  }
 ],
 "metadata": {
  "kernelspec": {
   "display_name": "Python 3 (ipykernel)",
   "language": "python",
   "name": "python3"
  },
  "language_info": {
   "codemirror_mode": {
    "name": "ipython",
    "version": 3
   },
   "file_extension": ".py",
   "mimetype": "text/x-python",
   "name": "python",
   "nbconvert_exporter": "python",
   "pygments_lexer": "ipython3",
   "version": "3.10.12"
  }
 },
 "nbformat": 4,
 "nbformat_minor": 5
}
