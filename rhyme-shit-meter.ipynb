{
 "cells": [
  {
   "cell_type": "code",
   "execution_count": 17,
   "id": "fb3c93f1-a159-49c1-b1dc-0489607a0afc",
   "metadata": {},
   "outputs": [
    {
     "name": "stdout",
     "output_type": "stream",
     "text": [
      "Defaulting to user installation because normal site-packages is not writeable\n",
      "Collecting epitran\n",
      "  Downloading epitran-1.24-py2.py3-none-any.whl (164 kB)\n",
      "\u001b[2K     \u001b[38;2;114;156;31m━━━━━━━━━━━━━━━━━━━━━━━━━━━━━━━━━━━━━━━\u001b[0m \u001b[32m164.9/164.9 KB\u001b[0m \u001b[31m1.6 MB/s\u001b[0m eta \u001b[36m0:00:00\u001b[0m[31m1.4 MB/s\u001b[0m eta \u001b[36m0:00:01\u001b[0m\n",
      "\u001b[?25hCollecting marisa-trie\n",
      "  Downloading marisa_trie-1.1.0-cp310-cp310-manylinux_2_17_x86_64.manylinux2014_x86_64.whl (1.3 MB)\n",
      "\u001b[2K     \u001b[38;2;114;156;31m━━━━━━━━━━━━━━━━━━━━━━━━━━━━━━━━━━━━━━━━\u001b[0m \u001b[32m1.3/1.3 MB\u001b[0m \u001b[31m8.0 MB/s\u001b[0m eta \u001b[36m0:00:00\u001b[0m[31m10.6 MB/s\u001b[0m eta \u001b[36m0:00:01\u001b[0m\n",
      "\u001b[?25hCollecting panphon>=0.20\n",
      "  Downloading panphon-0.20.0-py2.py3-none-any.whl (73 kB)\n",
      "\u001b[2K     \u001b[38;2;114;156;31m━━━━━━━━━━━━━━━━━━━━━━━━━━━━━━━━━━━━━━━━\u001b[0m \u001b[32m73.6/73.6 KB\u001b[0m \u001b[31m4.3 MB/s\u001b[0m eta \u001b[36m0:00:00\u001b[0m\n",
      "\u001b[?25hRequirement already satisfied: setuptools in /usr/lib/python3/dist-packages (from epitran) (59.6.0)\n",
      "Requirement already satisfied: requests in /home/user/.local/lib/python3.10/site-packages (from epitran) (2.31.0)\n",
      "Collecting regex\n",
      "  Downloading regex-2023.10.3-cp310-cp310-manylinux_2_17_x86_64.manylinux2014_x86_64.whl (773 kB)\n",
      "\u001b[2K     \u001b[38;2;114;156;31m━━━━━━━━━━━━━━━━━━━━━━━━━━━━━━━━━━━━━━━\u001b[0m \u001b[32m773.9/773.9 KB\u001b[0m \u001b[31m9.8 MB/s\u001b[0m eta \u001b[36m0:00:00\u001b[0m MB/s\u001b[0m eta \u001b[36m0:00:01\u001b[0m\n",
      "\u001b[?25hRequirement already satisfied: numpy>=1.20.2 in /home/user/.local/lib/python3.10/site-packages (from panphon>=0.20->epitran) (1.26.1)\n",
      "Collecting munkres\n",
      "  Downloading munkres-1.1.4-py2.py3-none-any.whl (7.0 kB)\n",
      "Requirement already satisfied: PyYAML in /usr/lib/python3/dist-packages (from panphon>=0.20->epitran) (5.4.1)\n",
      "Collecting unicodecsv\n",
      "  Downloading unicodecsv-0.14.1.tar.gz (10 kB)\n",
      "  Preparing metadata (setup.py) ... \u001b[?25ldone\n",
      "\u001b[?25hCollecting editdistance\n",
      "  Downloading editdistance-0.6.2-cp310-cp310-manylinux_2_17_x86_64.manylinux2014_x86_64.whl (282 kB)\n",
      "\u001b[2K     \u001b[38;2;114;156;31m━━━━━━━━━━━━━━━━━━━━━━━━━━━━━━━━━━━━━━━\u001b[0m \u001b[32m282.6/282.6 KB\u001b[0m \u001b[31m8.1 MB/s\u001b[0m eta \u001b[36m0:00:00\u001b[0m\n",
      "\u001b[?25hRequirement already satisfied: idna<4,>=2.5 in /usr/lib/python3/dist-packages (from requests->epitran) (3.3)\n",
      "Requirement already satisfied: urllib3<3,>=1.21.1 in /usr/lib/python3/dist-packages (from requests->epitran) (1.26.5)\n",
      "Requirement already satisfied: certifi>=2017.4.17 in /usr/lib/python3/dist-packages (from requests->epitran) (2020.6.20)\n",
      "Requirement already satisfied: charset-normalizer<4,>=2 in /home/user/.local/lib/python3.10/site-packages (from requests->epitran) (3.3.0)\n",
      "Building wheels for collected packages: unicodecsv\n",
      "  Building wheel for unicodecsv (setup.py) ... \u001b[?25ldone\n",
      "\u001b[?25h  Created wheel for unicodecsv: filename=unicodecsv-0.14.1-py3-none-any.whl size=10768 sha256=4e3d3c8109ea86eaaafe693ca2ca30c15426fd96c015aebdd437eca75785d686\n",
      "  Stored in directory: /home/user/.cache/pip/wheels/9c/ea/66/8e45247b09052a933eb1a680b7c64802298faba58aac9b346b\n",
      "Successfully built unicodecsv\n",
      "Installing collected packages: unicodecsv, munkres, regex, marisa-trie, editdistance, panphon, epitran\n",
      "Successfully installed editdistance-0.6.2 epitran-1.24 marisa-trie-1.1.0 munkres-1.1.4 panphon-0.20.0 regex-2023.10.3 unicodecsv-0.14.1\n"
     ]
    }
   ],
   "source": [
    "#!pip install pandas\n",
    "#!pip install openpyxl\n",
    "!pip install epitran"
   ]
  },
  {
   "cell_type": "code",
   "execution_count": 1,
   "id": "ed972dc8-4d02-433f-b643-a873e0092587",
   "metadata": {},
   "outputs": [],
   "source": [
    "import pandas as pd\n",
    "import string\n",
    "import re\n",
    "import os"
   ]
  },
  {
   "cell_type": "code",
   "execution_count": 2,
   "id": "d9941eaa-75bd-443b-88bc-f7532f4c133d",
   "metadata": {},
   "outputs": [],
   "source": [
    "df = pd.read_csv(\"паспорт хорошего русского - песня скомпилированная рифма AABB.csv\",)"
   ]
  },
  {
   "cell_type": "code",
   "execution_count": 3,
   "id": "bf0dbeed-6c66-4bc6-89dd-6fc9fbda4794",
   "metadata": {},
   "outputs": [],
   "source": [
    "path_to_file = \"kino-kukushka.txt\"\n",
    "path_to_file = \"glinka-slavsa.txt\"\n",
    "path_to_file = \"lube-kon.txt\"\n",
    "path_to_file = \"tscvetaeva.txt\"\n",
    "path_to_file = \"bernes-temnaya-noc.txt\""
   ]
  },
  {
   "cell_type": "code",
   "execution_count": 4,
   "id": "1bc61cd8-b5de-4315-8959-f553b573001d",
   "metadata": {},
   "outputs": [],
   "source": [
    "with open(path_to_file) as f:\n",
    "    text_song = f.readlines()\n",
    "#text_song\n",
    "\n",
    "df = pd.DataFrame(text_song, columns = [\"text\"])\n",
    "df = df[df[\"text\"] != \"\\n\"]\n",
    "df = df.reset_index(drop = True)\n",
    "\n",
    "l1 = []\n",
    "df2 = pd.DataFrame(columns = [\"text\"])\n",
    "for ind in df.index:\n",
    "    n1 = ind + 1\n",
    "    n = n1 % 4\n",
    "    if n == 1: \n",
    "        l1 = [df['text'][ind]]\n",
    "    else:\n",
    "        l1.append(df['text'][ind])\n",
    "    if n == 0: \n",
    "        text = \"\".join(l1)\n",
    "        new_row = pd.DataFrame([text], columns=['text'])\n",
    "        df2 = pd.concat([df2, new_row], ignore_index=True)\n",
    "        #text = \"\"\n",
    "\n",
    "df2[\"text\"] = df2.apply(lambda row: row[\"text\"][:-1] if row[\"text\"][-1] else row[\"text\"], axis = 1)\n",
    "df = df2\n",
    "\n",
    "#df2.values"
   ]
  },
  {
   "cell_type": "code",
   "execution_count": 5,
   "id": "c1117a73-ebc3-469c-9c8f-fa389ebd6c64",
   "metadata": {},
   "outputs": [],
   "source": [
    "def get_item(text):\n",
    "    arr = text.split(\"\\n\")\n",
    "    #l1 = list(map(lambda x: x if x[-1].isalpha() else x[:-1], arr))\n",
    "    \n",
    "    def remove_punctuation(str):\n",
    "        #str = str if str[-1].isalpha() else str[:-1]\n",
    "        #return str.translate(str.maketrans('', '', string.punctuation))\n",
    "        return re.sub(r'[^\\w\\s]', '', str).strip()\n",
    "\n",
    "    arr = list(map(remove_punctuation,arr))\n",
    "    return  arr\n",
    "    "
   ]
  },
  {
   "cell_type": "code",
   "execution_count": 6,
   "id": "b3bf7a9f-3fe9-43e7-a82e-039855e4a845",
   "metadata": {},
   "outputs": [],
   "source": [
    "#get_item(df.iloc[0].values[0])\n",
    "df[\"text_splitted\"] = df.apply(lambda raw:get_item(raw[\"text\"]), axis=1)"
   ]
  },
  {
   "cell_type": "code",
   "execution_count": 7,
   "id": "4181bf32-7e5e-4357-996f-549a4bf49a5d",
   "metadata": {},
   "outputs": [],
   "source": [
    "#df.iloc[5][\"text\"], df.iloc[5][\"text_splitted\"], "
   ]
  },
  {
   "cell_type": "code",
   "execution_count": 8,
   "id": "f297fb7d-9699-4703-8d3a-ec443939c215",
   "metadata": {},
   "outputs": [],
   "source": [
    "def get_rhyme_score(text1, text2):\n",
    "\n",
    "    #This function counts only the direct equals of symbols from the end of phrases \n",
    "    #and isn`t aware of fonetical equals\n",
    "    \n",
    "    n = 1\n",
    "    while (n < len(text1) or n < len(text2)):\n",
    "        c1 = text1[-n]\n",
    "        c2 = text2[-n] \n",
    "        #print(c1, c2)\n",
    "        if c1 == c2:\n",
    "            n = n+1\n",
    "        else:\n",
    "            break\n",
    "    return n - 1"
   ]
  },
  {
   "cell_type": "code",
   "execution_count": 9,
   "id": "57a38a59-18f8-4850-8046-caa23f34b46e",
   "metadata": {},
   "outputs": [
    {
     "data": {
      "text/plain": [
       "('A', 0)"
      ]
     },
     "execution_count": 9,
     "metadata": {},
     "output_type": "execute_result"
    }
   ],
   "source": [
    "\"A\" , get_rhyme_score(df.iloc[0][\"text_splitted\"][0], df.iloc[0][\"text_splitted\"][2])\n",
    "#, get_rhyme_score(df[0][0], df[0][2]), get_rhyme_score(df[0][0], df[0][3])"
   ]
  },
  {
   "cell_type": "code",
   "execution_count": 10,
   "id": "ce77abca-49a0-48bc-ac1f-86a02ffed8b3",
   "metadata": {},
   "outputs": [],
   "source": [
    "def get_rhyme_score_of_quatrain(l4_quatrain):\n",
    "    l1 = l4_quatrain\n",
    "    letters = \"ABCD\"\n",
    "    n = len(letters)\n",
    "    scores = [None] * n \n",
    "    for i in range(0,n):\n",
    "        current_letter = letters[i]\n",
    "        if scores[i] is None: \n",
    "#            scores[i] = {current_letter:100}\n",
    "            scores[i] = {current_letter}\n",
    "        for j in range(i+1,n):\n",
    "            score = get_rhyme_score(l1[i], l1[j])\n",
    "            if (score > 0):\n",
    "                scores[j] = {current_letter:score}\n",
    "    return scores"
   ]
  },
  {
   "cell_type": "code",
   "execution_count": 13,
   "id": "2d020bd0-a728-46c6-859f-943d7e95240f",
   "metadata": {},
   "outputs": [
    {
     "data": {
      "text/plain": [
       "(['Темная ночь только пули свистят по степи',\n",
       "  'Только ветер гудит в проводах тускло звезды мерцают',\n",
       "  'В темную ночь ты любимая знаю не спишь',\n",
       "  'И у детской кроватки тайком ты слезу утираешь'],\n",
       " [{'A'}, {'B'}, {'C'}, {'C': 2}])"
      ]
     },
     "execution_count": 13,
     "metadata": {},
     "output_type": "execute_result"
    }
   ],
   "source": [
    "l1 = df.iloc[0][\"text_splitted\"]\n",
    "l1 , get_rhyme_score_of_quatrain(l1)"
   ]
  },
  {
   "cell_type": "code",
   "execution_count": 14,
   "id": "48de80f1-72fb-40d7-8bd5-acc48174cb8b",
   "metadata": {},
   "outputs": [],
   "source": [
    "df[\"scores\"] = df.apply(lambda raw: get_rhyme_score_of_quatrain(raw[\"text_splitted\"]), axis = 1)"
   ]
  },
  {
   "cell_type": "code",
   "execution_count": 15,
   "id": "c3a5c25c-d622-4d99-8835-103c22fd0911",
   "metadata": {},
   "outputs": [
    {
     "data": {
      "text/html": [
       "<div>\n",
       "<style scoped>\n",
       "    .dataframe tbody tr th:only-of-type {\n",
       "        vertical-align: middle;\n",
       "    }\n",
       "\n",
       "    .dataframe tbody tr th {\n",
       "        vertical-align: top;\n",
       "    }\n",
       "\n",
       "    .dataframe thead th {\n",
       "        text-align: right;\n",
       "    }\n",
       "</style>\n",
       "<table border=\"1\" class=\"dataframe\">\n",
       "  <thead>\n",
       "    <tr style=\"text-align: right;\">\n",
       "      <th></th>\n",
       "      <th>text</th>\n",
       "      <th>text_splitted</th>\n",
       "      <th>scores</th>\n",
       "    </tr>\n",
       "  </thead>\n",
       "  <tbody>\n",
       "    <tr>\n",
       "      <th>0</th>\n",
       "      <td>Темная ночь, только пули свистят по степи\\nТол...</td>\n",
       "      <td>[Темная ночь только пули свистят по степи, Тол...</td>\n",
       "      <td>[{A}, {B}, {C}, {'C': 2}]</td>\n",
       "    </tr>\n",
       "    <tr>\n",
       "      <th>1</th>\n",
       "      <td>Как я люблю глубину твоих ласковых глаз\\nКак я...</td>\n",
       "      <td>[Как я люблю глубину твоих ласковых глаз, Как ...</td>\n",
       "      <td>[{A}, {B}, {C}, {'B': 3}]</td>\n",
       "    </tr>\n",
       "    <tr>\n",
       "      <th>2</th>\n",
       "      <td>Верю в тебя, в дорогую подругу мою\\nЭта вера о...</td>\n",
       "      <td>[Верю в тебя в дорогую подругу мою, Эта вера о...</td>\n",
       "      <td>[{A}, {B}, {'A': 2}, {D}]</td>\n",
       "    </tr>\n",
       "    <tr>\n",
       "      <th>3</th>\n",
       "      <td>Смерть не страшна, с ней не раз мы встречались...</td>\n",
       "      <td>[Смерть не страшна с ней не раз мы встречались...</td>\n",
       "      <td>[{A}, {B}, {C}, {D}]</td>\n",
       "    </tr>\n",
       "  </tbody>\n",
       "</table>\n",
       "</div>"
      ],
      "text/plain": [
       "                                                text  \\\n",
       "0  Темная ночь, только пули свистят по степи\\nТол...   \n",
       "1  Как я люблю глубину твоих ласковых глаз\\nКак я...   \n",
       "2  Верю в тебя, в дорогую подругу мою\\nЭта вера о...   \n",
       "3  Смерть не страшна, с ней не раз мы встречались...   \n",
       "\n",
       "                                       text_splitted  \\\n",
       "0  [Темная ночь только пули свистят по степи, Тол...   \n",
       "1  [Как я люблю глубину твоих ласковых глаз, Как ...   \n",
       "2  [Верю в тебя в дорогую подругу мою, Эта вера о...   \n",
       "3  [Смерть не страшна с ней не раз мы встречались...   \n",
       "\n",
       "                      scores  \n",
       "0  [{A}, {B}, {C}, {'C': 2}]  \n",
       "1  [{A}, {B}, {C}, {'B': 3}]  \n",
       "2  [{A}, {B}, {'A': 2}, {D}]  \n",
       "3       [{A}, {B}, {C}, {D}]  "
      ]
     },
     "execution_count": 15,
     "metadata": {},
     "output_type": "execute_result"
    }
   ],
   "source": [
    "df"
   ]
  },
  {
   "cell_type": "code",
   "execution_count": 16,
   "id": "cf4930ab-c8d5-454d-9225-15b0ab8c33ce",
   "metadata": {},
   "outputs": [],
   "source": [
    "file_name = f\"{os.path.splitext(path_to_file)[0]}.xlsx\"\n",
    "#file_name\n",
    "df.loc[:, [\"text\",\"scores\"]].to_excel(file_name)"
   ]
  },
  {
   "cell_type": "markdown",
   "id": "a6a99bb5-a37b-4eba-b340-6b9fb1b1f06c",
   "metadata": {},
   "source": [
    "### Let`s control the different cases:"
   ]
  },
  {
   "cell_type": "code",
   "execution_count": null,
   "id": "51e2caa9-afe2-4ed2-be27-a906d1d182d8",
   "metadata": {},
   "outputs": [],
   "source": [
    "df.iloc[0].values\n",
    "#here is Ok, ABAB"
   ]
  },
  {
   "cell_type": "code",
   "execution_count": null,
   "id": "95572b4f-5230-43ec-b835-7ba4c7c248be",
   "metadata": {},
   "outputs": [],
   "source": [
    "df.iloc[1].values\n",
    "#here is ABAC, should be AABB\n",
    "#because phonetically ах ~ аш"
   ]
  },
  {
   "cell_type": "code",
   "execution_count": null,
   "id": "ef17b550-9716-4c6e-aca6-15cdb4d26c7b",
   "metadata": {},
   "outputs": [],
   "source": [
    "#df.iloc[6].values\n",
    "#here is ABCC, should be AABB \n",
    "#because phonetically ных ~ ну"
   ]
  },
  {
   "cell_type": "markdown",
   "id": "9e46671f-3006-475d-8988-e77922c07272",
   "metadata": {},
   "source": [
    "### Conclusion: the get_rhyme_score(text1, text2) should be extended for fonetical equal phrases\n",
    "## theory here https://stihi.ru/2011/10/19/7548#:~:text=%D0%9D%D0%B5%D1%82%D0%BE%D1%87%D0%BD%D0%B0%D1%8F%20%D1%80%D0%B8%D1%84%D0%BC%D0%B0%20%D1%85%D0%B0%D1%80%D0%B0%D0%BA%D1%82%D0%B5%D1%80%D0%B8%D0%B7%D1%83%D0%B5%D1%82%D1%81%D1%8F%20%D1%80%D0%B0%D0%B7%D0%BB%D0%B8%D1%87%D0%B8%D1%8F%D0%BC%D0%B8%20%D0%B2,%D1%81%D0%BB%D0%BE%D0%B3%D0%B0%D1%85%2C%20%D1%80%D0%B0%D1%81%D0%BF%D0%BE%D0%BB%D0%BE%D0%B6%D0%B5%D0%BD%D0%BD%D1%8B%D1%85%20%D0%B2%20%D0%BE%D0%BA%D0%BE%D0%BD%D1%87%D0%B0%D0%BD%D0%B8%D1%8F%D1%85%20%D1%81%D1%82%D1%80%D0%BE%D0%BA.\n"
   ]
  },
  {
   "cell_type": "code",
   "execution_count": null,
   "id": "dcc4f3fc-df8a-499a-b3ee-bf7c05234c82",
   "metadata": {},
   "outputs": [],
   "source": [
    "def is_Consonance():\n",
    "\n",
    "    #https://ru.wikipedia.org/wiki/%D0%9A%D0%BE%D0%BD%D1%81%D0%BE%D0%BD%D0%B0%D0%BD%D1%81_(%D0%B7%D0%BD%D0%B0%D1%87%D0%B5%D0%BD%D0%B8%D1%8F)\n",
    "    return False\n",
    "\n",
    "def is_Assonance():\n",
    "\n",
    "    #https://en.wikipedia.org/wiki/Assonance\n",
    "    return False\n",
    "    \n"
   ]
  },
  {
   "cell_type": "code",
   "execution_count": 21,
   "id": "d3e0a29d-64df-404c-8b05-6773e9f38b19",
   "metadata": {},
   "outputs": [
    {
     "data": {
      "text/plain": [
       "'za bɨstrotu strʲemʲitʲelʲnɨx sobɨtʲiй,za pravdu, za iɡru…— posluʂaйtʲe! — jeɕːё mʲena lʲubʲitʲe za to, t͡ɕʲto ja umru'"
      ]
     },
     "execution_count": 21,
     "metadata": {},
     "output_type": "execute_result"
    }
   ],
   "source": [
    "from epitran.backoff import Backoff\n",
    "\n",
    "backoff = Backoff(['rus-Cyrl', 'rus-Cyrl'])\n",
    "                  \n",
    "backoff.transliterate('За быстроту стремительных событий,За правду, за игру…— Послушайте! — Ещё меня любите За то, что я умру')"
   ]
  },
  {
   "cell_type": "code",
   "execution_count": null,
   "id": "cb8015d8-d52a-4eb0-abb5-fd2cba85d498",
   "metadata": {},
   "outputs": [],
   "source": []
  }
 ],
 "metadata": {
  "kernelspec": {
   "display_name": "Python 3 (ipykernel)",
   "language": "python",
   "name": "python3"
  },
  "language_info": {
   "codemirror_mode": {
    "name": "ipython",
    "version": 3
   },
   "file_extension": ".py",
   "mimetype": "text/x-python",
   "name": "python",
   "nbconvert_exporter": "python",
   "pygments_lexer": "ipython3",
   "version": "3.10.12"
  }
 },
 "nbformat": 4,
 "nbformat_minor": 5
}
